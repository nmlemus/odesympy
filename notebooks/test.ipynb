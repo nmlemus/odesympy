{
 "cells": [
  {
   "cell_type": "code",
   "execution_count": 9,
   "metadata": {},
   "outputs": [],
   "source": [
    "from sympy import latex, Rational\n",
    "from sympy.abc import x, y, mu, r, tau"
   ]
  },
  {
   "cell_type": "code",
   "execution_count": 7,
   "metadata": {},
   "outputs": [
    {
     "name": "stdout",
     "output_type": "stream",
     "text": [
      "8 \\sqrt{2} \\tau^{\\frac{7}{2}}\n"
     ]
    }
   ],
   "source": [
    "print(latex((2*tau)**Rational(7,2)))"
   ]
  },
  {
   "cell_type": "code",
   "execution_count": 12,
   "metadata": {},
   "outputs": [
    {
     "name": "stdout",
     "output_type": "stream",
     "text": [
      "\\begin{equation}8 \\sqrt{2} \\mu^{\\frac{7}{2}}\\end{equation}\n"
     ]
    }
   ],
   "source": [
    "print(latex((2*mu)**Rational(7,2), mode='equation'))"
   ]
  },
  {
   "cell_type": "code",
   "execution_count": null,
   "metadata": {},
   "outputs": [],
   "source": []
  }
 ],
 "metadata": {
  "kernelspec": {
   "display_name": "base",
   "language": "python",
   "name": "python3"
  },
  "language_info": {
   "codemirror_mode": {
    "name": "ipython",
    "version": 3
   },
   "file_extension": ".py",
   "mimetype": "text/x-python",
   "name": "python",
   "nbconvert_exporter": "python",
   "pygments_lexer": "ipython3",
   "version": "3.9.13"
  },
  "orig_nbformat": 4,
  "vscode": {
   "interpreter": {
    "hash": "e679bb5a4d2e6e8208d08e606b58de5f27b7047cbf4fb3c3c786b6d71dbac57a"
   }
  }
 },
 "nbformat": 4,
 "nbformat_minor": 2
}
